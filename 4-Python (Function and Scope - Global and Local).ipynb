{
 "cells": [
  {
   "cell_type": "markdown",
   "metadata": {},
   "source": [
    "# Python Function and Scope (Local Scope and Global Scope)\n",
    "1) Built in function \\\n",
    "2) user defined function"
   ]
  },
  {
   "cell_type": "markdown",
   "metadata": {},
   "source": [
    "Till now we have been using built in function User can also define their own function, A block of organized, reusable code which is used to perform single task"
   ]
  },
  {
   "cell_type": "markdown",
   "metadata": {},
   "source": [
    "# Python Built - in Function"
   ]
  },
  {
   "cell_type": "markdown",
   "metadata": {},
   "source": [
    "1) print \\\n",
    "2) input \\\n",
    "3) min \\\n",
    "4) max \\\n",
    "5) zip"
   ]
  },
  {
   "cell_type": "markdown",
   "metadata": {},
   "source": [
    "# Python zip() function"
   ]
  },
  {
   "cell_type": "code",
   "execution_count": 1,
   "metadata": {},
   "outputs": [
    {
     "name": "stdout",
     "output_type": "stream",
     "text": [
      "('Python', 'Language')\n",
      "('Java', 'Developer')\n",
      "('C', '++')\n"
     ]
    }
   ],
   "source": [
    "# Returns an iterator, from two or more iterators\n",
    "a=['Python','Java','C']\n",
    "b=['Language','Developer','++']\n",
    "for i in zip(a,b):\n",
    "    print(i)"
   ]
  },
  {
   "cell_type": "markdown",
   "metadata": {},
   "source": [
    "# Python User defined function"
   ]
  },
  {
   "cell_type": "markdown",
   "metadata": {},
   "source": [
    "# Defining a function\n",
    "\"def\" keyword is used to start the function block followed by function name and parathesis (). def is reserve word. At start of function use (:) colon withing code block, colon withing the code block is used for indented."
   ]
  },
  {
   "cell_type": "code",
   "execution_count": 2,
   "metadata": {},
   "outputs": [],
   "source": [
    "# Example for User define function\n",
    "def add():\n",
    "    pass"
   ]
  },
  {
   "cell_type": "markdown",
   "metadata": {},
   "source": [
    "# if we want we can also define parameters also known as input arguments to function inside parathesis"
   ]
  },
  {
   "cell_type": "code",
   "execution_count": 3,
   "metadata": {},
   "outputs": [],
   "source": [
    "# Eaxmple for user defined function with input arguments\n",
    "def add(a,b):\n",
    "    return a+b"
   ]
  },
  {
   "cell_type": "markdown",
   "metadata": {},
   "source": [
    "# Documentation string or docstring is the first statement of a function. This is documentation string is optional "
   ]
  },
  {
   "cell_type": "code",
   "execution_count": 4,
   "metadata": {},
   "outputs": [
    {
     "data": {
      "text/plain": [
       "'User define function take 2 parameter and return sum of 2 numbers'"
      ]
     },
     "execution_count": 4,
     "metadata": {},
     "output_type": "execute_result"
    }
   ],
   "source": [
    "def add(a,b):\n",
    "    'User define function take 2 parameter and return sum of 2 numbers'\n",
    "    return a+b\n",
    "\n",
    "add.__doc__ # use function name dot(.) __doc__ to print docstring of any function"
   ]
  },
  {
   "cell_type": "markdown",
   "metadata": {},
   "source": [
    "# Parameter have positional behaviour which we have defined in the parenthesis. It is necessary to report them in same order"
   ]
  },
  {
   "cell_type": "code",
   "execution_count": 5,
   "metadata": {},
   "outputs": [
    {
     "name": "stdout",
     "output_type": "stream",
     "text": [
      "Enter Boys Age: 25\n",
      "Enter Girls Age: 20\n",
      "Boy age 25 and Girl age 20 and their difference is 5\n",
      "Boy age 20 and Girl age 25 and their difference is -5\n"
     ]
    }
   ],
   "source": [
    "def ageDiff(boy,girl):\n",
    "    differnce = boy-girl\n",
    "    print(f'Boy age {boy} and Girl age {girl} and their difference is {differnce}')\n",
    "    \n",
    "boy=int(input('Enter Boys Age: '))\n",
    "girl=int(input('Enter Girls Age: '))\n",
    "ageDiff(boy,girl) # correct order\n",
    "ageDiff(girl,boy) # incorrect order"
   ]
  },
  {
   "cell_type": "markdown",
   "metadata": {},
   "source": [
    "# Invoking function\n",
    "Once done with structure of the function now you can use it by calling it."
   ]
  },
  {
   "cell_type": "code",
   "execution_count": 6,
   "metadata": {},
   "outputs": [
    {
     "data": {
      "text/plain": [
       "9"
      ]
     },
     "execution_count": 6,
     "metadata": {},
     "output_type": "execute_result"
    }
   ],
   "source": [
    "add(5,4) # calling/invoking add()"
   ]
  },
  {
   "cell_type": "markdown",
   "metadata": {},
   "source": [
    "# Pass By Reference and Pass by Value\n",
    "All the argument in Python are passed by reference"
   ]
  },
  {
   "cell_type": "code",
   "execution_count": 7,
   "metadata": {},
   "outputs": [],
   "source": [
    "def print_name(name1):\n",
    "    print(f'Hello {name1}, Welcome to Python')\n"
   ]
  },
  {
   "cell_type": "code",
   "execution_count": 8,
   "metadata": {},
   "outputs": [
    {
     "name": "stdout",
     "output_type": "stream",
     "text": [
      "Hello Manoj, Welcome to Python\n"
     ]
    }
   ],
   "source": [
    "input_name = 'Manoj'\n",
    "print_name(input_name) # Call by reference"
   ]
  },
  {
   "cell_type": "code",
   "execution_count": 9,
   "metadata": {},
   "outputs": [
    {
     "name": "stdout",
     "output_type": "stream",
     "text": [
      "Hello Manoj, Welcome to Python\n"
     ]
    }
   ],
   "source": [
    "print_name('Manoj') # call by Value"
   ]
  },
  {
   "cell_type": "code",
   "execution_count": 10,
   "metadata": {},
   "outputs": [
    {
     "name": "stdout",
     "output_type": "stream",
     "text": [
      "Hello Manoj, Welcome to Python\n"
     ]
    }
   ],
   "source": [
    "print_name(name1='Manoj') # hear name1 is the variable name used during fun define"
   ]
  },
  {
   "cell_type": "code",
   "execution_count": 11,
   "metadata": {},
   "outputs": [],
   "source": [
    "def information(name,age):\n",
    "    print('Name: ',name)\n",
    "    print('Age: ',age)"
   ]
  },
  {
   "cell_type": "code",
   "execution_count": 12,
   "metadata": {},
   "outputs": [
    {
     "name": "stdout",
     "output_type": "stream",
     "text": [
      "Name:  Manoj\n",
      "Age:  25\n"
     ]
    }
   ],
   "source": [
    "FirstName = 'Manoj'\n",
    "Age = '25'\n",
    "information(FirstName,Age) # call by reference where argument position are fixed"
   ]
  },
  {
   "cell_type": "code",
   "execution_count": 13,
   "metadata": {},
   "outputs": [
    {
     "name": "stdout",
     "output_type": "stream",
     "text": [
      "Name:  Manoj\n",
      "Age:  25\n"
     ]
    }
   ],
   "source": [
    "information(age=25,name='Manoj') # Call by value where argument position are changed"
   ]
  },
  {
   "cell_type": "markdown",
   "metadata": {},
   "source": [
    "# Function Arguments\n",
    "1) Default Arguments \\\n",
    "2) Required Arguments \\\n",
    "3) Keyword Arguments \\\n",
    "4) Variable-length Arguments"
   ]
  },
  {
   "cell_type": "markdown",
   "metadata": {},
   "source": [
    "# Default Argument"
   ]
  },
  {
   "cell_type": "code",
   "execution_count": 14,
   "metadata": {},
   "outputs": [],
   "source": [
    "def information(name,age=25): # Age variable is already assigned a default value\n",
    "    print('Name: ',name)\n",
    "    print('Age: ',age)"
   ]
  },
  {
   "cell_type": "code",
   "execution_count": 15,
   "metadata": {},
   "outputs": [
    {
     "name": "stdout",
     "output_type": "stream",
     "text": [
      "Name:  Manoj\n",
      "Age:  25\n",
      "Name:  Manoj\n",
      "Age:  20\n"
     ]
    }
   ],
   "source": [
    "input_name='Manoj'\n",
    "information(input_name) # Default Argument is 25\n",
    "\n",
    "information(input_name,20) # Call by value and default value will not consider"
   ]
  },
  {
   "cell_type": "markdown",
   "metadata": {},
   "source": [
    "# Required Argument\n",
    "If you pass the argument in correct positional order than this argument is known as required argument"
   ]
  },
  {
   "cell_type": "code",
   "execution_count": 16,
   "metadata": {},
   "outputs": [],
   "source": [
    "def information(string1,integer1):\n",
    "    print('Character Value: ',string1)\n",
    "    print('Integer Value: ',integer1)"
   ]
  },
  {
   "cell_type": "code",
   "execution_count": 17,
   "metadata": {},
   "outputs": [
    {
     "name": "stdout",
     "output_type": "stream",
     "text": [
      "Character Value:  Manoj\n",
      "Integer Value:  25\n"
     ]
    }
   ],
   "source": [
    "information('Manoj',25) # Required argument, if you didnot pass any argument it will give error"
   ]
  },
  {
   "cell_type": "code",
   "execution_count": 18,
   "metadata": {},
   "outputs": [
    {
     "ename": "TypeError",
     "evalue": "information() missing 1 required positional argument: 'integer1'",
     "output_type": "error",
     "traceback": [
      "\u001b[1;31m---------------------------------------------------------------------------\u001b[0m",
      "\u001b[1;31mTypeError\u001b[0m                                 Traceback (most recent call last)",
      "\u001b[1;32m<ipython-input-18-542180140894>\u001b[0m in \u001b[0;36m<module>\u001b[1;34m\u001b[0m\n\u001b[1;32m----> 1\u001b[1;33m \u001b[0minformation\u001b[0m\u001b[1;33m(\u001b[0m\u001b[1;36m25\u001b[0m\u001b[1;33m)\u001b[0m \u001b[1;31m# required argument error\u001b[0m\u001b[1;33m\u001b[0m\u001b[1;33m\u001b[0m\u001b[0m\n\u001b[0m",
      "\u001b[1;31mTypeError\u001b[0m: information() missing 1 required positional argument: 'integer1'"
     ]
    }
   ],
   "source": [
    "information(25) # required argument error"
   ]
  },
  {
   "cell_type": "markdown",
   "metadata": {},
   "source": [
    "# Keyword Argument\n",
    "when you use keyword during function call then it is known as keyword argument"
   ]
  },
  {
   "cell_type": "code",
   "execution_count": 20,
   "metadata": {},
   "outputs": [],
   "source": [
    "def myFunction(str):\n",
    "    return str"
   ]
  },
  {
   "cell_type": "code",
   "execution_count": 21,
   "metadata": {},
   "outputs": [
    {
     "data": {
      "text/plain": [
       "'Python'"
      ]
     },
     "execution_count": 21,
     "metadata": {},
     "output_type": "execute_result"
    }
   ],
   "source": [
    "myFunction(str='Python') # str is a keyword"
   ]
  },
  {
   "cell_type": "markdown",
   "metadata": {},
   "source": [
    "# Variable length Argument\n",
    "Sometimes while defining a function you need to process a function for more arguments than you specified, Such type of argument is know as variable length argument"
   ]
  },
  {
   "cell_type": "code",
   "execution_count": 22,
   "metadata": {},
   "outputs": [],
   "source": [
    "def myFunction(arg1,*arg2):\n",
    "    print('Argument 1: ', arg1)\n",
    "    for i in arg2:\n",
    "        print('Variable Length Argument: ',i)"
   ]
  },
  {
   "cell_type": "code",
   "execution_count": 23,
   "metadata": {},
   "outputs": [
    {
     "name": "stdout",
     "output_type": "stream",
     "text": [
      "Argument 1:  10\n"
     ]
    }
   ],
   "source": [
    "myFunction(10) # Variable length Argument is 0"
   ]
  },
  {
   "cell_type": "code",
   "execution_count": 24,
   "metadata": {},
   "outputs": [
    {
     "name": "stdout",
     "output_type": "stream",
     "text": [
      "Argument 1:  10\n",
      "Variable Length Argument:  20\n",
      "Variable Length Argument:  30\n",
      "Variable Length Argument:  40\n",
      "Variable Length Argument:  50\n"
     ]
    }
   ],
   "source": [
    "myFunction(10,20,30,40,50) # Variable length Argument is 4"
   ]
  },
  {
   "cell_type": "code",
   "execution_count": 25,
   "metadata": {},
   "outputs": [
    {
     "name": "stdout",
     "output_type": "stream",
     "text": [
      "Argument 1:  10\n",
      "Variable Length Argument:  [20, 30, 40, 50]\n"
     ]
    }
   ],
   "source": [
    "myFunction(10,[20,30,40,50]) #  Variable length Argument is 1 in list object"
   ]
  },
  {
   "cell_type": "markdown",
   "metadata": {},
   "source": [
    "# Python Anonymus function\n",
    "python function which is define using def keyword is known as anonymus function or lamda function"
   ]
  },
  {
   "cell_type": "markdown",
   "metadata": {},
   "source": [
    "# Lamda Function"
   ]
  },
  {
   "cell_type": "code",
   "execution_count": 26,
   "metadata": {},
   "outputs": [],
   "source": [
    "fun = lambda x: x*2 # lamda function is created and assigned to fun"
   ]
  },
  {
   "cell_type": "code",
   "execution_count": 27,
   "metadata": {},
   "outputs": [
    {
     "data": {
      "text/plain": [
       "4"
      ]
     },
     "execution_count": 27,
     "metadata": {},
     "output_type": "execute_result"
    }
   ],
   "source": [
    "fun(2) # now call fun with number for required arguments"
   ]
  },
  {
   "cell_type": "code",
   "execution_count": 28,
   "metadata": {},
   "outputs": [],
   "source": [
    "fun = lambda x,y=4: x+y # Lambda function with 1 default argument"
   ]
  },
  {
   "cell_type": "code",
   "execution_count": 29,
   "metadata": {},
   "outputs": [
    {
     "data": {
      "text/plain": [
       "9"
      ]
     },
     "execution_count": 29,
     "metadata": {},
     "output_type": "execute_result"
    }
   ],
   "source": [
    "fun(5)"
   ]
  },
  {
   "cell_type": "code",
   "execution_count": 30,
   "metadata": {},
   "outputs": [],
   "source": [
    "even = lambda x: [i for i in x if i%2==0]"
   ]
  },
  {
   "cell_type": "code",
   "execution_count": 31,
   "metadata": {},
   "outputs": [
    {
     "data": {
      "text/plain": [
       "[2, 4, 6, 8]"
      ]
     },
     "execution_count": 31,
     "metadata": {},
     "output_type": "execute_result"
    }
   ],
   "source": [
    "even(x=[1,2,3,4,5,6,7,8])"
   ]
  },
  {
   "cell_type": "markdown",
   "metadata": {},
   "source": [
    "# Global and Local Scope"
   ]
  },
  {
   "cell_type": "markdown",
   "metadata": {},
   "source": [
    "If Variable is declare inside the function body then scope of this variable is locala and if you declare the variables outside the function the scope of that variable is Global"
   ]
  },
  {
   "cell_type": "markdown",
   "metadata": {},
   "source": [
    "You can access local variable if and only if they are inside the function body and on the other hand you can access global variable through out the function"
   ]
  },
  {
   "cell_type": "code",
   "execution_count": 34,
   "metadata": {},
   "outputs": [
    {
     "name": "stdout",
     "output_type": "stream",
     "text": [
      "Local Variable a:  15\n",
      "Local Variable b:  3\n"
     ]
    },
    {
     "data": {
      "text/plain": [
       "18"
      ]
     },
     "execution_count": 34,
     "metadata": {},
     "output_type": "execute_result"
    }
   ],
   "source": [
    "def loacalFunction(x,y):\n",
    "    print('Local Variable a: ',x)\n",
    "    print('Local Variable b: ',y)\n",
    "    sum = x+y\n",
    "    return sum\n",
    "\n",
    "loacalFunction(15,3)"
   ]
  },
  {
   "cell_type": "code",
   "execution_count": 37,
   "metadata": {},
   "outputs": [
    {
     "name": "stdout",
     "output_type": "stream",
     "text": [
      "PythonProgramming\n"
     ]
    }
   ],
   "source": [
    "globalvar1 = 'Python'\n",
    "globalvar2 = 'Programming'\n",
    "def merge():\n",
    "    print(globalvar1+globalvar2) # global variable declare outside function used inside function\n",
    "    \n",
    "merge()"
   ]
  },
  {
   "cell_type": "code",
   "execution_count": 38,
   "metadata": {},
   "outputs": [
    {
     "name": "stdout",
     "output_type": "stream",
     "text": [
      "LocalVariable\n"
     ]
    },
    {
     "ename": "NameError",
     "evalue": "name 'localvar1' is not defined",
     "output_type": "error",
     "traceback": [
      "\u001b[1;31m---------------------------------------------------------------------------\u001b[0m",
      "\u001b[1;31mNameError\u001b[0m                                 Traceback (most recent call last)",
      "\u001b[1;32m<ipython-input-38-650398202a08>\u001b[0m in \u001b[0;36m<module>\u001b[1;34m\u001b[0m\n\u001b[0;32m      5\u001b[0m \u001b[1;33m\u001b[0m\u001b[0m\n\u001b[0;32m      6\u001b[0m \u001b[0mmerge2\u001b[0m\u001b[1;33m(\u001b[0m\u001b[1;33m)\u001b[0m\u001b[1;33m\u001b[0m\u001b[1;33m\u001b[0m\u001b[0m\n\u001b[1;32m----> 7\u001b[1;33m \u001b[0mlocalvar1\u001b[0m\u001b[1;33m\u001b[0m\u001b[1;33m\u001b[0m\u001b[0m\n\u001b[0m",
      "\u001b[1;31mNameError\u001b[0m: name 'localvar1' is not defined"
     ]
    }
   ],
   "source": [
    "def merge2():\n",
    "    localvar1 = 'Local'\n",
    "    localvar2 = 'Variable'\n",
    "    print(localvar1+localvar2)\n",
    "    \n",
    "merge2() # function call\n",
    "localvar1 # local variable declare inside merge2 function cannot use outside function"
   ]
  },
  {
   "cell_type": "code",
   "execution_count": 40,
   "metadata": {},
   "outputs": [
    {
     "name": "stdout",
     "output_type": "stream",
     "text": [
      "LocalVariable\n"
     ]
    },
    {
     "data": {
      "text/plain": [
       "'Local'"
      ]
     },
     "execution_count": 40,
     "metadata": {},
     "output_type": "execute_result"
    }
   ],
   "source": [
    "def merge2():\n",
    "    localvar1 = 'Local'\n",
    "    localvar2 = 'Variable'\n",
    "    print(localvar1+localvar2)\n",
    "    return localvar1\n",
    "\n",
    "localvar1 = merge2() # function return a variable and assign to variable which is global\n",
    "localvar1 # global variable is used"
   ]
  },
  {
   "cell_type": "code",
   "execution_count": null,
   "metadata": {},
   "outputs": [],
   "source": []
  }
 ],
 "metadata": {
  "kernelspec": {
   "display_name": "Python 3",
   "language": "python",
   "name": "python3"
  },
  "language_info": {
   "codemirror_mode": {
    "name": "ipython",
    "version": 3
   },
   "file_extension": ".py",
   "mimetype": "text/x-python",
   "name": "python",
   "nbconvert_exporter": "python",
   "pygments_lexer": "ipython3",
   "version": "3.7.6"
  }
 },
 "nbformat": 4,
 "nbformat_minor": 4
}
