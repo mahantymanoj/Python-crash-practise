{
 "cells": [
  {
   "cell_type": "markdown",
   "metadata": {},
   "source": [
    "# File and File Handling in Python"
   ]
  },
  {
   "cell_type": "markdown",
   "metadata": {},
   "source": [
    "Python Provide File function like: \\\n",
    "    1) open() \\\n",
    "    2) close() \\\n",
    "    3) read() \\\n",
    "    4) write() \\\n",
    "    5) rename() \\\n",
    "    6) remove()"
   ]
  },
  {
   "cell_type": "markdown",
   "metadata": {},
   "source": [
    "# 1) open() function\n",
    "when you read or write file then its important to open the file, for which built-in function open() is used"
   ]
  },
  {
   "cell_type": "code",
   "execution_count": 4,
   "metadata": {},
   "outputs": [
    {
     "data": {
      "text/plain": [
       "'D:\\\\Developing\\\\Data Science\\\\Python Language'"
      ]
     },
     "execution_count": 4,
     "metadata": {},
     "output_type": "execute_result"
    }
   ],
   "source": [
    "pwd"
   ]
  },
  {
   "cell_type": "code",
   "execution_count": 5,
   "metadata": {},
   "outputs": [
    {
     "ename": "FileNotFoundError",
     "evalue": "[Errno 2] No such file or directory: 'open1.txt'",
     "output_type": "error",
     "traceback": [
      "\u001b[1;31m---------------------------------------------------------------------------\u001b[0m",
      "\u001b[1;31mFileNotFoundError\u001b[0m                         Traceback (most recent call last)",
      "\u001b[1;32m<ipython-input-5-7be113d88cfe>\u001b[0m in \u001b[0;36m<module>\u001b[1;34m\u001b[0m\n\u001b[1;32m----> 1\u001b[1;33m \u001b[0mf\u001b[0m\u001b[1;33m=\u001b[0m\u001b[0mopen\u001b[0m\u001b[1;33m(\u001b[0m\u001b[1;34m'open1.txt'\u001b[0m\u001b[1;33m)\u001b[0m \u001b[1;31m# open1.txt is not available in pwd\u001b[0m\u001b[1;33m\u001b[0m\u001b[1;33m\u001b[0m\u001b[0m\n\u001b[0m",
      "\u001b[1;31mFileNotFoundError\u001b[0m: [Errno 2] No such file or directory: 'open1.txt'"
     ]
    }
   ],
   "source": [
    "f=open('open1.txt') # open1.txt is not available in pwd"
   ]
  },
  {
   "cell_type": "markdown",
   "metadata": {},
   "source": [
    "Above error was raise since open1.txt file is not saved and open() take default argument as read mode"
   ]
  },
  {
   "cell_type": "markdown",
   "metadata": {},
   "source": [
    "# Various type of file mode in Python"
   ]
  },
  {
   "cell_type": "markdown",
   "metadata": {},
   "source": [
    "1) R - File is open in read mode only and file pointer is placed at start of the file. \\\n",
    "2) r+ - File is open in read and write mode and file pointer is placed at start of the file. \\\n",
    "3) Rb - File is open in read only binart format and file pointer is placed at start of the file. \\\n",
    "4) rb+ - File is open in read and write mode and file pointer is placed at start of the file. \\\n",
    "5) W - File is created in write mode, if file is exist it overwrite else it will create new file. \\\n",
    "6) w+ - File is created in read and write mode, if file is exist it overwrite else it will create new file for read and write. \\\n",
    "7) Wb - File is open for write in binary format. \\\n",
    "8) wb+ - File is open for read and write in binary format. \\\n",
    "9) A - File is open in append in binary mode. if file exist then file pointer is at the end of the file else create new file. \\\n",
    "10) a+ - File is open in read and append mode. if file exist then file pointer is at the end of the file else create new file. \\"
   ]
  },
  {
   "cell_type": "markdown",
   "metadata": {},
   "source": [
    "# 2) close() function\n",
    "close() method flush out any unwritten information and close the file. Once file is close then no more file writing can be done"
   ]
  },
  {
   "cell_type": "markdown",
   "metadata": {},
   "source": [
    "# Since 'open1.txt' file is not exists lets create new file by read and write mode."
   ]
  },
  {
   "cell_type": "code",
   "execution_count": 10,
   "metadata": {},
   "outputs": [],
   "source": [
    "f = open('open1.txt','w+') # w+ - read and write mode\n",
    "f.write('This is my 1st file operation')\n",
    "f.close()"
   ]
  },
  {
   "cell_type": "markdown",
   "metadata": {},
   "source": [
    "# Read file content"
   ]
  },
  {
   "cell_type": "code",
   "execution_count": 12,
   "metadata": {},
   "outputs": [
    {
     "name": "stdout",
     "output_type": "stream",
     "text": [
      "This is my 1st file operation\n"
     ]
    }
   ],
   "source": [
    "f = open('open1.txt','r') # read mode\n",
    "content = f.read()\n",
    "print(content)\n",
    "f.close()"
   ]
  },
  {
   "cell_type": "markdown",
   "metadata": {},
   "source": [
    "# Append content to file"
   ]
  },
  {
   "cell_type": "code",
   "execution_count": 16,
   "metadata": {},
   "outputs": [],
   "source": [
    "f = open('open1.txt','a+')\n",
    "f.write('i am appending second line through Python')\n",
    "f.close()"
   ]
  },
  {
   "cell_type": "code",
   "execution_count": 21,
   "metadata": {},
   "outputs": [
    {
     "name": "stdout",
     "output_type": "stream",
     "text": [
      "This is my 1st file operationi am appending second line through Python\n"
     ]
    }
   ],
   "source": [
    "f = open('open1.txt','r')\n",
    "content = f.read()\n",
    "print(content)\n",
    "f.close()"
   ]
  },
  {
   "cell_type": "markdown",
   "metadata": {},
   "source": [
    "# Attributes of file object\n",
    "There are 3 attribute for file object, they are:"
   ]
  },
  {
   "cell_type": "code",
   "execution_count": 23,
   "metadata": {},
   "outputs": [
    {
     "data": {
      "text/plain": [
       "True"
      ]
     },
     "execution_count": 23,
     "metadata": {},
     "output_type": "execute_result"
    }
   ],
   "source": [
    "f.closed # file.closed attribute will return true if file objecy is close else it will return false "
   ]
  },
  {
   "cell_type": "code",
   "execution_count": 25,
   "metadata": {},
   "outputs": [
    {
     "data": {
      "text/plain": [
       "'r'"
      ]
     },
     "execution_count": 25,
     "metadata": {},
     "output_type": "execute_result"
    }
   ],
   "source": [
    "f.mode # file.mode attribute will return current access mode in which file is open"
   ]
  },
  {
   "cell_type": "code",
   "execution_count": 26,
   "metadata": {},
   "outputs": [
    {
     "data": {
      "text/plain": [
       "'open1.txt'"
      ]
     },
     "execution_count": 26,
     "metadata": {},
     "output_type": "execute_result"
    }
   ],
   "source": [
    "f.name # file.name attribute will return filename"
   ]
  },
  {
   "cell_type": "markdown",
   "metadata": {},
   "source": [
    "# Python readline()"
   ]
  },
  {
   "cell_type": "code",
   "execution_count": 30,
   "metadata": {},
   "outputs": [
    {
     "name": "stdout",
     "output_type": "stream",
     "text": [
      "Here we write command and to execute the command just press enter key and your command will be interpreted.\n",
      "\n"
     ]
    }
   ],
   "source": [
    "f = open('readline1.txt','r') # readlin1.txt was created manually\n",
    "content = f.readline() # it will read 1st line in the file\n",
    "print(content)\n",
    "f.close()"
   ]
  },
  {
   "cell_type": "code",
   "execution_count": 31,
   "metadata": {},
   "outputs": [
    {
     "name": "stdout",
     "output_type": "stream",
     "text": [
      "Here we write command and to execute the command just press enter key and your command will be interpreted.\n",
      "\n",
      "For coding in Python you must know the basics of the console used in Python.\n",
      "\n"
     ]
    }
   ],
   "source": [
    "f = open('readline1.txt','r')\n",
    "content = f.readline() # it will read 1st line in the file\n",
    "print(content)\n",
    "content = f.readline() # it will read 2n line in the file\n",
    "print(content)\n",
    "f.close()"
   ]
  },
  {
   "cell_type": "markdown",
   "metadata": {},
   "source": [
    "# Using for loop to print all content of the file"
   ]
  },
  {
   "cell_type": "code",
   "execution_count": 47,
   "metadata": {},
   "outputs": [
    {
     "name": "stdout",
     "output_type": "stream",
     "text": [
      "Here we write command and to execute the command just press enter key and your command will be interpreted.\n",
      "\n",
      "For coding in Python you must know the basics of the console used in Python.\n",
      "\n",
      "\n",
      "\n",
      "The primary prompt of the python console is the three greater than symbols.\n",
      "\n",
      "Accepting Input from Console\n",
      "\n",
      "User enters the values in the Console and that value is then used in the program as it was required.\n",
      "\n",
      "To take input from the user we make use of a built-in function input().\n"
     ]
    }
   ],
   "source": [
    "f = open('readline1.txt','r')\n",
    "for line in f:\n",
    "    print(line) # print line by line all content of the file\n",
    "f.close()"
   ]
  },
  {
   "cell_type": "markdown",
   "metadata": {},
   "source": [
    "# Python readlines().\n",
    "readline()  will read all lines in the file"
   ]
  },
  {
   "cell_type": "code",
   "execution_count": 50,
   "metadata": {},
   "outputs": [
    {
     "name": "stdout",
     "output_type": "stream",
     "text": [
      "['Here we write command and to execute the command just press enter key and your command will be interpreted.\\n', 'For coding in Python you must know the basics of the console used in Python.\\n', '\\n', 'The primary prompt of the python console is the three greater than symbols.\\n', 'Accepting Input from Console\\n', 'User enters the values in the Console and that value is then used in the program as it was required.\\n', 'To take input from the user we make use of a built-in function input().']\n"
     ]
    }
   ],
   "source": [
    "f = open('readline1.txt','r')\n",
    "content = f.readlines()\n",
    "print(content)\n",
    "f.close()"
   ]
  },
  {
   "cell_type": "markdown",
   "metadata": {},
   "source": [
    "# Python write multiple line to file"
   ]
  },
  {
   "cell_type": "code",
   "execution_count": 53,
   "metadata": {},
   "outputs": [],
   "source": [
    "content = ['This is 1st line','\\nThis is 2nd line','\\nThis is 3rd line']\n",
    "f = open('readlines1.txt','w+') # read and write since readline1.txt was not saved\n",
    "\n",
    "for line in content:\n",
    "    f.write(line)\n",
    "    \n",
    "f.close()"
   ]
  },
  {
   "cell_type": "code",
   "execution_count": 54,
   "metadata": {},
   "outputs": [
    {
     "name": "stdout",
     "output_type": "stream",
     "text": [
      "This is 1st line\n",
      "This is 2nd line\n",
      "This is 3rd line\n"
     ]
    }
   ],
   "source": [
    "f = open('readlines1.txt','r') # read mode\n",
    "print(f.read())\n",
    "f.close()"
   ]
  },
  {
   "cell_type": "markdown",
   "metadata": {},
   "source": [
    "# Python writelines()\n",
    "writelines() will write all the lines instead of using loop to write"
   ]
  },
  {
   "cell_type": "code",
   "execution_count": 56,
   "metadata": {},
   "outputs": [],
   "source": [
    "f = open('readlines1.txt','w+') # read and write, if exists overwrite else create new\n",
    "f.writelines(content)\n",
    "f.close()"
   ]
  },
  {
   "cell_type": "code",
   "execution_count": 57,
   "metadata": {},
   "outputs": [
    {
     "name": "stdout",
     "output_type": "stream",
     "text": [
      "This is 1st line\n",
      "This is 2nd line\n",
      "This is 3rd line\n"
     ]
    }
   ],
   "source": [
    "f = open('readlines1.txt','r') # read mode\n",
    "print(f.read())\n",
    "f.close()"
   ]
  },
  {
   "cell_type": "markdown",
   "metadata": {},
   "source": [
    "# Python file operation using with"
   ]
  },
  {
   "cell_type": "markdown",
   "metadata": {},
   "source": [
    "we can also perform all file operation within block of code, with will provide a scope where we can perform all file operation and no need to close file object since out of with scope file object is automatically closed."
   ]
  },
  {
   "cell_type": "code",
   "execution_count": 59,
   "metadata": {},
   "outputs": [
    {
     "name": "stdout",
     "output_type": "stream",
     "text": [
      "This is my 1st file operationi am appending second line through Python\n"
     ]
    }
   ],
   "source": [
    "with open('open1.txt','r') as file:\n",
    "    print(file.read())\n",
    "    \n",
    "# out of file object scope"
   ]
  },
  {
   "cell_type": "code",
   "execution_count": 62,
   "metadata": {},
   "outputs": [
    {
     "data": {
      "text/plain": [
       "True"
      ]
     },
     "execution_count": 62,
     "metadata": {},
     "output_type": "execute_result"
    }
   ],
   "source": [
    "file.closed # Return true if file object is closed"
   ]
  },
  {
   "cell_type": "code",
   "execution_count": 64,
   "metadata": {},
   "outputs": [
    {
     "name": "stdout",
     "output_type": "stream",
     "text": [
      "['Here we write command and to execute the command just press enter key and your command will be interpreted.\\n', 'For coding in Python you must know the basics of the console used in Python.\\n', '\\n', 'The primary prompt of the python console is the three greater than symbols.\\n', 'Accepting Input from Console\\n', 'User enters the values in the Console and that value is then used in the program as it was required.\\n', 'To take input from the user we make use of a built-in function input().']\n"
     ]
    }
   ],
   "source": [
    "with open('readline1.txt') as file:\n",
    "    print(file.readlines())"
   ]
  },
  {
   "cell_type": "markdown",
   "metadata": {},
   "source": [
    "# rename and remove file"
   ]
  },
  {
   "cell_type": "code",
   "execution_count": 67,
   "metadata": {},
   "outputs": [],
   "source": [
    "import os\n",
    "os.rename('New Text Document.txt','Text.txt')"
   ]
  },
  {
   "cell_type": "code",
   "execution_count": 68,
   "metadata": {},
   "outputs": [],
   "source": [
    "os.remove('Text.txt')"
   ]
  },
  {
   "cell_type": "markdown",
   "metadata": {},
   "source": [
    "# Python file position"
   ]
  },
  {
   "cell_type": "markdown",
   "metadata": {},
   "source": [
    "# tell()\n",
    "tell() function show current pointer in file"
   ]
  },
  {
   "cell_type": "code",
   "execution_count": 74,
   "metadata": {},
   "outputs": [
    {
     "name": "stdout",
     "output_type": "stream",
     "text": [
      "This is my 1st fil\n",
      "File pointer at:  18\n"
     ]
    }
   ],
   "source": [
    "with open('open1.txt') as file:\n",
    "    print(file.read(18)) # read 18 bits from file\n",
    "    print('File pointer at: ',file.tell())"
   ]
  },
  {
   "cell_type": "markdown",
   "metadata": {},
   "source": [
    "# seek()\n",
    "seek() function is used to change file pointer position"
   ]
  },
  {
   "cell_type": "code",
   "execution_count": 77,
   "metadata": {},
   "outputs": [
    {
     "name": "stdout",
     "output_type": "stream",
     "text": [
      "File pointer at:  0\n",
      "File pointer after seek: 10\n"
     ]
    }
   ],
   "source": [
    "with open('open1.txt') as file:\n",
    "    print('File pointer at: ',file.tell())\n",
    "    file.seek(10)\n",
    "    print('File pointer after seek:', file.tell())"
   ]
  }
 ],
 "metadata": {
  "kernelspec": {
   "display_name": "Python 3",
   "language": "python",
   "name": "python3"
  },
  "language_info": {
   "codemirror_mode": {
    "name": "ipython",
    "version": 3
   },
   "file_extension": ".py",
   "mimetype": "text/x-python",
   "name": "python",
   "nbconvert_exporter": "python",
   "pygments_lexer": "ipython3",
   "version": "3.7.6"
  }
 },
 "nbformat": 4,
 "nbformat_minor": 4
}
