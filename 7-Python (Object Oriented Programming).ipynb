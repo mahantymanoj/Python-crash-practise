{
 "cells": [
  {
   "cell_type": "markdown",
   "metadata": {},
   "source": [
    "# Object Oriented Programming (OOP\\'s) in Python"
   ]
  },
  {
   "cell_type": "markdown",
   "metadata": {},
   "source": [
    "Python is a multi-paradigm programming language. It supports different programming approaches. \\\n",
    "One of the popular approaches to solve a programming problem is by creating objects. This is known as Object-Oriented Programming (OOP)."
   ]
  },
  {
   "cell_type": "markdown",
   "metadata": {},
   "source": [
    "Object-oriented programming (OOP) is a method of structuring a program by bundling related properties and behaviors into individual objects. \\\n",
    "The concept of OOP in Python focuses on creating reusable code. This concept is also known as DRY (Don't Repeat Yourself)."
   ]
  },
  {
   "cell_type": "markdown",
   "metadata": {},
   "source": [
    "# Class"
   ]
  },
  {
   "cell_type": "markdown",
   "metadata": {},
   "source": [
    "A class is a code template for creating objects. Objects have member variables and have behaviour associated with them. In python a class is created by the keyword class. A class is a blueprint for the object. \\\n",
    "Class is a general description of the objects and its behavior. Class defines properties and behaviour (Variable and method) that is share by all objects."
   ]
  },
  {
   "cell_type": "markdown",
   "metadata": {},
   "source": [
    "## Syntax\n",
    "To create class, the class keyword is used after that : (semi colon) is used. Class contain a docstring which you can access by classname __doc__"
   ]
  },
  {
   "cell_type": "code",
   "execution_count": 1,
   "metadata": {},
   "outputs": [
    {
     "name": "stdout",
     "output_type": "stream",
     "text": [
      "defined an empty class with class name anyClass\n"
     ]
    }
   ],
   "source": [
    "class anyClass:\n",
    "    'defined an empty class with class name anyClass' # class doc string\n",
    "    pass\n",
    "\n",
    "print(anyClass.__doc__)"
   ]
  },
  {
   "cell_type": "markdown",
   "metadata": {},
   "source": [
    "# Object"
   ]
  },
  {
   "cell_type": "markdown",
   "metadata": {},
   "source": [
    "An object (instance) is an instantiation of a class. When class is defined, only the description for the object is defined. Therefore, no memory or storage is allocated. memory allocation is done when object of the class is defined"
   ]
  },
  {
   "cell_type": "markdown",
   "metadata": {},
   "source": [
    "## Syntax"
   ]
  },
  {
   "cell_type": "markdown",
   "metadata": {},
   "source": [
    "we can create multiple object for same class"
   ]
  },
  {
   "cell_type": "code",
   "execution_count": 2,
   "metadata": {},
   "outputs": [
    {
     "name": "stdout",
     "output_type": "stream",
     "text": [
      "<class '__main__.anyClass'>\n",
      "<class '__main__.anyClass'>\n"
     ]
    }
   ],
   "source": [
    "object = anyClass()\n",
    "a = anyClass()\n",
    "print(type(object))\n",
    "print(type(a))"
   ]
  },
  {
   "cell_type": "markdown",
   "metadata": {},
   "source": [
    "# Relationship between class and object"
   ]
  },
  {
   "cell_type": "markdown",
   "metadata": {},
   "source": [
    "# Class:\n",
    "    1) Classes contain data and functions bundled together under a unit.\n",
    "    2) Classes is the collection of similar object. \n",
    "    3) Class define characteristics and behaviour of similar object.\n",
    "    4) Class is an abstract defination. Class is abstract data type.`\n",
    "    5) When we define class it just create template or skeleton, so no memory is allocated.\n",
    "    \n",
    "# Object:\n",
    "    1) Object is an instance of a class.\n",
    "    2) Object has state and behaviour.\n",
    "    3) Object take properties (variables) and use the behaviour (methods) defined in the class.\n",
    "    4) Object contains both data member and methods.\n",
    "    5) Objects are basic run time entities.\n",
    "    \n",
    "    "
   ]
  },
  {
   "cell_type": "markdown",
   "metadata": {},
   "source": [
    "# Namespace \n",
    "Namespace is a maping from name to object.A namespace is a system to have a unique name for each and every object in Python. An object might be a variable or a method.\\\n",
    "In python the namespaces are implemented as dictionaries. \\\n",
    "Namespaces are created a different instant and the namespaces have the different lifetimes. \\\n",
    "The local namespaces for a function is created when \\\n",
    "1) The function is called .\\\n",
    "2) The function is deleted. \\\n",
    "3) The function is returns or raises an exception that is not handled a within the function."
   ]
  },
  {
   "cell_type": "markdown",
   "metadata": {},
   "source": [
    "# Features of OOP's:\n",
    "    1) Abstract Data type\n",
    "    2) Encapsulation\n",
    "    3) Inheritance\n",
    "    4) Polymorphism"
   ]
  },
  {
   "cell_type": "markdown",
   "metadata": {},
   "source": [
    "## Abstract Data type\n",
    "Abstract data type is a set of objects and operations that are performed on those object. Objects and operations are bound together and advantage of this is that you can pass the object from one piece of the program to another. \\\n",
    "Abstract Data type (ADT) is a type (or class) for objects whose behaviour is defined by a set of value and a set of operations.\n",
    "The process of providing only the essentials and hiding the details is known as abstraction.\n"
   ]
  },
  {
   "cell_type": "markdown",
   "metadata": {},
   "source": [
    "## Encapsulation\n",
    "A class is an example of encapsulation as it encapsulates all the data that is member functions, variables, etc. \\\n",
    "\n",
    "Consider a real-life example of encapsulation, in a company, there are different sections like the accounts section, finance section, sales section etc. The finance section handles all the financial transactions and keeps records of all the data related to finance. Similarly, the sales section handles all the sales-related activities and keeps records of all the sales. Now there may arise a situation when for some reason an official from the finance section needs all the data about sales in a particular month. In this case, he is not allowed to directly access the data of the sales section. He will first have to contact some other officer in the sales section and then request him to give the particular data. This is what encapsulation is."
   ]
  },
  {
   "cell_type": "markdown",
   "metadata": {},
   "source": [
    "## Inheritance\n",
    "Process by which one object can use property of another object is called Inheritance. \\\n",
    "\n",
    "Parent class is the class being inherited from, also called base class. \\\n",
    "Child class is the class that inherits from another class, also called derived class.\n",
    "\n",
    "It represents real-world relationships well. \\\n",
    "It provides reusability of a code. We don’t have to write the same code again and again. Also, it allows us to add more features to a class without modifying it. \\\n",
    "It is transitive in nature, which means that if class B inherits from another class A, then all the subclasses of B would automatically inherit from class A."
   ]
  },
  {
   "cell_type": "markdown",
   "metadata": {},
   "source": [
    "## Polymorphism\n",
    "The word polymorphism means having many forms. In programming, polymorphism means same function name (but different signatures) being uses for different types. \\\n",
    "\n",
    "There are some functions in Python which are compatible to run with multiple data types.\n",
    "\n",
    "One such function is the len() function. It can run with many data types in Python. Let's look at some example use cases of the function."
   ]
  },
  {
   "cell_type": "code",
   "execution_count": 4,
   "metadata": {},
   "outputs": [
    {
     "name": "stdout",
     "output_type": "stream",
     "text": [
      "9\n",
      "3\n",
      "2\n"
     ]
    }
   ],
   "source": [
    "# Example: Polymorphic len() function\n",
    "print(len(\"Programiz\"))\n",
    "print(len([\"Python\", \"Java\", \"C\"]))\n",
    "print(len({\"Name\": \"John\", \"Address\": \"Nepal\"}))"
   ]
  },
  {
   "cell_type": "code",
   "execution_count": 23,
   "metadata": {},
   "outputs": [
    {
     "name": "stdout",
     "output_type": "stream",
     "text": [
      "5\n",
      "Manoj\n",
      "None\n",
      "Name:  Manoj\n",
      "Last Name:  Mahanty\n",
      "ManojMahanty\n"
     ]
    }
   ],
   "source": [
    "class MyClass():\n",
    "    variable_a = 5\n",
    "    def method1(self,variable_a):\n",
    "        print(variable_a)\n",
    "        # method1 function doesnot return any value so its return none\n",
    "        \n",
    "    def method2(self,variable_a,variable_b):\n",
    "        print('Name: ', variable_a)\n",
    "        print('Last Name: ', variable_b)\n",
    "        return variable_a + variable_b \n",
    "        # method2 function return 2 value so it doesnot return none\n",
    "        \n",
    "object = MyClass()\n",
    "print(object.variable_a)\n",
    "print(object.method1('Manoj'))\n",
    "print(object.method2('Manoj','Mahanty'))\n",
    "# since method2 return none, it is print as none in output"
   ]
  },
  {
   "cell_type": "markdown",
   "metadata": {},
   "source": [
    "# Why self argument passed in class method?\n",
    "\n",
    "self is class instance. when you call class method using instance then instance is passed as 1st argument on class method as self"
   ]
  },
  {
   "cell_type": "markdown",
   "metadata": {},
   "source": [
    "# The __init__() Function\n",
    "\n",
    "The \\__init__() is a special method, the \\__init__() is a class constructor or we can also say it as initialization method which Python calls when a new instance if this class is created.\n",
    "\n",
    "The examples above are classes and objects in their simplest form, and are not really useful in real life applications.\n",
    "\n",
    "To understand the meaning of classes we have to understand the built-in \\__init__() function.\n",
    "\n",
    "All classes have a function called \\__init__(), which is always executed when the class is being initiated.\n",
    "\n",
    "Use the \\__init__() function to assign values to object properties, or other operations that are necessary to do when the object is being created:"
   ]
  },
  {
   "cell_type": "code",
   "execution_count": 34,
   "metadata": {},
   "outputs": [
    {
     "name": "stdout",
     "output_type": "stream",
     "text": [
      "36\n"
     ]
    }
   ],
   "source": [
    "class Person:\n",
    "    def __init__(self, name, age): # magic method, class constructor\n",
    "    self.name = name\n",
    "    self.age = age\n",
    "    print(age)\n",
    "\n",
    "p1 = Person(\"John\", 36) # calling a constructor and parameter passed will be assigned to __init__()"
   ]
  },
  {
   "cell_type": "markdown",
   "metadata": {},
   "source": [
    "When class define \\__init__() method. then class instantiation automatically invokes \\__init__() for the newly-created class instance"
   ]
  },
  {
   "cell_type": "markdown",
   "metadata": {},
   "source": [
    "# Class Attribute\n",
    "A class attribute is a Python variable that belongs to a class rather than a particular object. It is shared between all the objects of this class and it is defined outside the constructor function"
   ]
  },
  {
   "cell_type": "markdown",
   "metadata": {},
   "source": [
    "# Instance Attribute\n",
    "An instance attribute is a Python variable belonging to one, and only one, object. This variable is only accessible in the scope of this object and it is defined inside the constructor function, \\__init__(self,..) of the class."
   ]
  },
  {
   "cell_type": "code",
   "execution_count": 33,
   "metadata": {},
   "outputs": [
    {
     "name": "stdout",
     "output_type": "stream",
     "text": [
      "10\n",
      "Instance\n",
      "10\n",
      "Instance2\n"
     ]
    }
   ],
   "source": [
    "class example():\n",
    "    class_attribute = 10\n",
    "    def __init__(self,instance_attribute):\n",
    "        self.instance_attribute = instance_attribute\n",
    "        \n",
    "object = example('Instance') # object 1, Instance1 is passed for instance attribute (object1)\n",
    "object2 = example('Instance2') # object 2, Instance2 is passed for instance attribute (object2)\n",
    "print(object.class_attribute) # class attribute \n",
    "print(object.instance_attribute) # Instance attribute print 'Instance 1' for object1 instance\n",
    "print(object2.class_attribute) # class attribute \n",
    "print(object2.instance_attribute) # Instance attribute print 'Instance 2' for object2 instance\n"
   ]
  },
  {
   "cell_type": "code",
   "execution_count": 45,
   "metadata": {},
   "outputs": [
    {
     "name": "stdout",
     "output_type": "stream",
     "text": [
      "Stack operation examples\n",
      "True\n",
      "python\n",
      "3\n",
      "False\n",
      "11.5\n",
      "11.5\n",
      "True\n",
      "python\n",
      "[5, 'python']\n"
     ]
    }
   ],
   "source": [
    "# STack Abstract Data Type\n",
    "class Stack:\n",
    "    def __init__(self):\n",
    "        self.items = []\n",
    "\n",
    "    def isEmpty(self):\n",
    "        return self.items == []\n",
    "\n",
    "    def push(self, item):\n",
    "        self.items.append(item)\n",
    "\n",
    "    def pop(self):\n",
    "        return self.items.pop()\n",
    "\n",
    "    def peek(self):\n",
    "        return self.items[len(self.items) - 1]\n",
    "\n",
    "    def size(self):\n",
    "        return len(self.items)\n",
    "    \n",
    "    \n",
    "# STack ADT operation example\n",
    "s=Stack()\n",
    "\n",
    "print('Stack operation examples')\n",
    "print(s.isEmpty())\n",
    "s.push(5)\n",
    "s.push('python')\n",
    "print(s.peek())\n",
    "s.push(True)\n",
    "print(s.size())\n",
    "print(s.isEmpty())\n",
    "s.push(11.5)\n",
    "print(s.peek())\n",
    "print(s.pop())\n",
    "print(s.pop())\n",
    "print(s.peek())\n",
    "\n",
    "print(s.items)"
   ]
  },
  {
   "cell_type": "markdown",
   "metadata": {},
   "source": [
    "# Inheritance"
   ]
  },
  {
   "cell_type": "markdown",
   "metadata": {},
   "source": [
    "## Syntax"
   ]
  },
  {
   "cell_type": "code",
   "execution_count": 48,
   "metadata": {},
   "outputs": [],
   "source": [
    "class BaseClassName():\n",
    "    pass\n",
    "\n",
    "class DerivedClassName(BaseClassName):\n",
    "    pass"
   ]
  },
  {
   "cell_type": "markdown",
   "metadata": {},
   "source": [
    "## Python use inheritance, which helps to acquire the information from the parent class."
   ]
  },
  {
   "cell_type": "markdown",
   "metadata": {},
   "source": [
    "# Derived Class Method and Method overriding"
   ]
  },
  {
   "cell_type": "code",
   "execution_count": 58,
   "metadata": {},
   "outputs": [
    {
     "name": "stdout",
     "output_type": "stream",
     "text": [
      "Base Class Method\n",
      "None\n",
      "Base Class A:  Base Class\n",
      "None\n",
      "Derived Class Method\n",
      "None\n",
      "Derived Class A:  Base\n",
      "None\n"
     ]
    }
   ],
   "source": [
    "class BaseClass():\n",
    "    def baseclassMethod(self):\n",
    "        print('Base Class Method')\n",
    "        # method doesnot return any value so it return none\n",
    "        \n",
    "    def commonMethod(self, a):\n",
    "        self.a = a\n",
    "        return print('Base Class A: ',a)\n",
    "        \n",
    "class DerivedClass(BaseClass):\n",
    "    def derivedClass(self):\n",
    "        print('Derived Class Method')\n",
    "        # method doesnot return any value so it return none\n",
    "        \n",
    "    def commonMethod(self,a):\n",
    "        self.a = a\n",
    "        return print('Derived Class A: ',a)\n",
    "        \n",
    "base = BaseClass()\n",
    "derive = DerivedClass()\n",
    "print(base.baseclassMethod())\n",
    "print(base.commonMethod('Base Class'))\n",
    "\n",
    "print(derive.derivedClass())\n",
    "print(derive.commonMethod('Base')) # we have used instance of derived class so method overriding\n",
    "\n",
    "    "
   ]
  },
  {
   "cell_type": "markdown",
   "metadata": {},
   "source": [
    "## Python inbuilt function for inheritance\n",
    "1) isinstance() \\\n",
    "2) issubclass()"
   ]
  },
  {
   "cell_type": "markdown",
   "metadata": {},
   "source": [
    "# Isinstance()\n",
    "This function is used to check the type of instance"
   ]
  },
  {
   "cell_type": "code",
   "execution_count": 68,
   "metadata": {},
   "outputs": [
    {
     "name": "stdout",
     "output_type": "stream",
     "text": [
      "base is instance of Base Class:  True\n",
      "derive is instance of Base Class:  True\n"
     ]
    }
   ],
   "source": [
    "print('base is instance of Base Class: ', isinstance(base,BaseClass)) # base is object of BaseClass\n",
    "print('derive is instance of Base Class: ', isinstance(derive,BaseClass)) # derive is object of BaseClass since inheritance\n"
   ]
  },
  {
   "cell_type": "code",
   "execution_count": 69,
   "metadata": {},
   "outputs": [
    {
     "name": "stdout",
     "output_type": "stream",
     "text": [
      "base is instance of DerivedClass Class:  False\n",
      "derive is instance of DerivedClass Class:  True\n"
     ]
    }
   ],
   "source": [
    "print('base is instance of DerivedClass Class: ', isinstance(base,DerivedClass)) # base is not object of DerivedClass\n",
    "print('derive is instance of DerivedClass Class: ', isinstance(derive,DerivedClass)) # derive is object of DerivedClass"
   ]
  },
  {
   "cell_type": "markdown",
   "metadata": {},
   "source": [
    "# issubclass()\n",
    "This function is used to check the class inheritance"
   ]
  },
  {
   "cell_type": "code",
   "execution_count": 72,
   "metadata": {},
   "outputs": [
    {
     "name": "stdout",
     "output_type": "stream",
     "text": [
      "DerivedClass is sub class of BaseClass:  True\n"
     ]
    }
   ],
   "source": [
    "print('DerivedClass is sub class of BaseClass: ',issubclass(DerivedClass,BaseClass))"
   ]
  },
  {
   "cell_type": "code",
   "execution_count": 73,
   "metadata": {},
   "outputs": [
    {
     "name": "stdout",
     "output_type": "stream",
     "text": [
      "BaseClass is subclass of DerivedClass:  False\n"
     ]
    }
   ],
   "source": [
    "print('BaseClass is subclass of DerivedClass: ', issubclass(BaseClass,DerivedClass))"
   ]
  },
  {
   "cell_type": "markdown",
   "metadata": {},
   "source": [
    "# Multiple Inheritance\n",
    "A class is Derived from 2 or more base class then we can say multiple inheritance"
   ]
  },
  {
   "cell_type": "code",
   "execution_count": 90,
   "metadata": {},
   "outputs": [],
   "source": [
    "class Base1:\n",
    "    def __init__(self,base1):\n",
    "        self.base1 = base1\n",
    "    def base1():\n",
    "        print('Base 1 Class: ',self.base1)\n",
    "        \n",
    "class Base2():\n",
    "    def __init__(self,base2):\n",
    "        self.base2 = base2\n",
    "    def base2():\n",
    "        print('Base 1 Class: ',self.base2)\n",
    "\n",
    "class Derived(Base1,Base2):\n",
    "    \n",
    "    def __init__(self,a):\n",
    "        self.a = a\n",
    "        \n",
    "    def derive(self):\n",
    "        obj = Base1(a)\n",
    "        print(obj.base1())\n",
    "    \n",
    "derive = Derived('Manoj')\n",
    "# derive.base1()\n"
   ]
  },
  {
   "cell_type": "code",
   "execution_count": null,
   "metadata": {},
   "outputs": [],
   "source": []
  },
  {
   "cell_type": "code",
   "execution_count": null,
   "metadata": {},
   "outputs": [],
   "source": []
  },
  {
   "cell_type": "code",
   "execution_count": 13,
   "metadata": {},
   "outputs": [
    {
     "data": {
      "text/plain": [
       "1"
      ]
     },
     "execution_count": 13,
     "metadata": {},
     "output_type": "execute_result"
    }
   ],
   "source": []
  },
  {
   "cell_type": "code",
   "execution_count": null,
   "metadata": {},
   "outputs": [],
   "source": []
  }
 ],
 "metadata": {
  "kernelspec": {
   "display_name": "Python 3",
   "language": "python",
   "name": "python3"
  },
  "language_info": {
   "codemirror_mode": {
    "name": "ipython",
    "version": 3
   },
   "file_extension": ".py",
   "mimetype": "text/x-python",
   "name": "python",
   "nbconvert_exporter": "python",
   "pygments_lexer": "ipython3",
   "version": "3.7.6"
  }
 },
 "nbformat": 4,
 "nbformat_minor": 4
}
