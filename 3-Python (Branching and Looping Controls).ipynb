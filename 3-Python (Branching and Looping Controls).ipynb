{
 "cells": [
  {
   "cell_type": "markdown",
   "metadata": {},
   "source": [
    "# Python Branching and Loop controls"
   ]
  },
  {
   "cell_type": "markdown",
   "metadata": {},
   "source": [
    "Python use indentation for grouping the statements. All Statement are indented by same number of character space if all statement belongs to single block of code"
   ]
  },
  {
   "cell_type": "markdown",
   "metadata": {},
   "source": [
    "# Python Branching Program\n",
    "Branching program are also know as decision making statements, The conditional statements has three part.\n",
    "1) Test expression \\\n",
    "2) Block of code \\\n",
    "3) Optional block execute it condition is false (else block) "
   ]
  },
  {
   "cell_type": "markdown",
   "metadata": {},
   "source": [
    "Following are the type of Python branching program statement\n",
    "1) If statement \\\n",
    "2) if... else statement \\\n",
    "3) if..elif statement \\\n",
    "4) Nester if.. else statement"
   ]
  },
  {
   "cell_type": "code",
   "execution_count": 1,
   "metadata": {},
   "outputs": [
    {
     "name": "stdout",
     "output_type": "stream",
     "text": [
      "a:  10\n",
      "b:  5\n"
     ]
    }
   ],
   "source": [
    "a = 10\n",
    "b = 5\n",
    "print('a: ',a)\n",
    "print('b: ',b)"
   ]
  },
  {
   "cell_type": "markdown",
   "metadata": {},
   "source": [
    "# If Statement\n",
    "Execute the block of code if test expression is True"
   ]
  },
  {
   "cell_type": "code",
   "execution_count": 2,
   "metadata": {},
   "outputs": [
    {
     "name": "stdout",
     "output_type": "stream",
     "text": [
      "a is greater\n"
     ]
    }
   ],
   "source": [
    "if a>b:\n",
    "    print('a is greater')"
   ]
  },
  {
   "cell_type": "code",
   "execution_count": 3,
   "metadata": {},
   "outputs": [
    {
     "name": "stdout",
     "output_type": "stream",
     "text": [
      "True\n"
     ]
    }
   ],
   "source": [
    "if a==10:\n",
    "    print(True)"
   ]
  },
  {
   "cell_type": "markdown",
   "metadata": {},
   "source": [
    "# If ... else statement\n",
    "Execute if block if test expression is True, if test expression is Flase then it will execute else block"
   ]
  },
  {
   "cell_type": "code",
   "execution_count": 5,
   "metadata": {},
   "outputs": [
    {
     "name": "stdout",
     "output_type": "stream",
     "text": [
      "a is greater than b\n"
     ]
    }
   ],
   "source": [
    "if a>b:\n",
    "    print('a is greater than b')\n",
    "else:\n",
    "    print('b is greater than a')"
   ]
  },
  {
   "cell_type": "code",
   "execution_count": 6,
   "metadata": {},
   "outputs": [
    {
     "name": "stdout",
     "output_type": "stream",
     "text": [
      "b is less than a\n"
     ]
    }
   ],
   "source": [
    "if a<b:\n",
    "    print('a is less than b')\n",
    "else:\n",
    "    print('b is less than a')"
   ]
  },
  {
   "cell_type": "markdown",
   "metadata": {},
   "source": [
    "# elif statement\n",
    "elif statement is used to check multiple Logical expression. For true value and it execute the block of code."
   ]
  },
  {
   "cell_type": "code",
   "execution_count": 8,
   "metadata": {},
   "outputs": [
    {
     "name": "stdout",
     "output_type": "stream",
     "text": [
      "a is greater than b\n"
     ]
    }
   ],
   "source": [
    "if a>b:\n",
    "    print('a is greater than b')\n",
    "elif a<b:\n",
    "    print('a is less than b')\n",
    "elif a==b:\n",
    "    print('a is equal to b')\n",
    "else:\n",
    "    print('default')"
   ]
  },
  {
   "cell_type": "code",
   "execution_count": 9,
   "metadata": {},
   "outputs": [
    {
     "name": "stdout",
     "output_type": "stream",
     "text": [
      "a is greater than b\n"
     ]
    }
   ],
   "source": [
    "if a==b:\n",
    "    print('a is equal to b')\n",
    "elif a<b:\n",
    "    print('a is less than b')\n",
    "elif a>b:\n",
    "    print('a is greater than b')\n",
    "else:\n",
    "    print('default')    \n"
   ]
  },
  {
   "cell_type": "markdown",
   "metadata": {},
   "source": [
    "# Nested if statement\n",
    "if inside if. Many time we have to check another condition when one condition is true."
   ]
  },
  {
   "cell_type": "code",
   "execution_count": 11,
   "metadata": {},
   "outputs": [
    {
     "name": "stdout",
     "output_type": "stream",
     "text": [
      "a is equal to 10\n"
     ]
    }
   ],
   "source": [
    "if a>b:\n",
    "    if a==10:\n",
    "        print('a is equal to 10')\n",
    "    else:\n",
    "        print('default')\n",
    "else:\n",
    "    print('default')"
   ]
  },
  {
   "cell_type": "markdown",
   "metadata": {},
   "source": [
    "# Python Looping Controls\n",
    "Iteration also know as looping. Iteration statement begin with test expression. If test expression is true, the loop body will execute. This will repeat until test expression results is false. \\\n",
    "Looping Iteration are: \\\n",
    "1) For loop \\\n",
    "2) While loop"
   ]
  },
  {
   "cell_type": "markdown",
   "metadata": {},
   "source": [
    "# Pyhton for statement\n",
    "This is less like the for keyword in other programming language \\\n",
    "A for loop is used for iterating over a sequence (that is either a list, a tuple, a dictionary, a set, or a string)."
   ]
  },
  {
   "cell_type": "code",
   "execution_count": 2,
   "metadata": {},
   "outputs": [
    {
     "data": {
      "text/plain": [
       "str"
      ]
     },
     "execution_count": 2,
     "metadata": {},
     "output_type": "execute_result"
    }
   ],
   "source": [
    "a = 'Python Programming'\n",
    "type(a)"
   ]
  },
  {
   "cell_type": "code",
   "execution_count": 3,
   "metadata": {},
   "outputs": [
    {
     "name": "stdout",
     "output_type": "stream",
     "text": [
      "P\n",
      "y\n",
      "t\n",
      "h\n",
      "o\n",
      "n\n",
      " \n",
      "P\n",
      "r\n",
      "o\n",
      "g\n",
      "r\n",
      "a\n",
      "m\n",
      "m\n",
      "i\n",
      "n\n",
      "g\n"
     ]
    }
   ],
   "source": [
    "for i in a:\n",
    "    print(i)"
   ]
  },
  {
   "cell_type": "code",
   "execution_count": 4,
   "metadata": {},
   "outputs": [
    {
     "name": "stdout",
     "output_type": "stream",
     "text": [
      "Python Programming"
     ]
    }
   ],
   "source": [
    "for i in a:\n",
    "    print(i,end='') # default argument is '\\n', but here '' is used so it will print in same line"
   ]
  },
  {
   "cell_type": "code",
   "execution_count": 6,
   "metadata": {},
   "outputs": [
    {
     "name": "stdout",
     "output_type": "stream",
     "text": [
      "Python\n",
      "Java\n",
      "MATLAB\n",
      "2\n"
     ]
    }
   ],
   "source": [
    "ls = ['Python','Java','MATLAB',2] # list\n",
    "for i in ls:\n",
    "    print(i)"
   ]
  },
  {
   "cell_type": "code",
   "execution_count": 8,
   "metadata": {},
   "outputs": [
    {
     "name": "stdout",
     "output_type": "stream",
     "text": [
      "range(1, 14, 2)\n"
     ]
    }
   ],
   "source": [
    "num = range(1,14,2)\n",
    "print(num)"
   ]
  },
  {
   "cell_type": "code",
   "execution_count": 10,
   "metadata": {},
   "outputs": [
    {
     "name": "stdout",
     "output_type": "stream",
     "text": [
      "Their are no even number in current list\n"
     ]
    }
   ],
   "source": [
    "# Using else statement in for loop\n",
    "for i in num:\n",
    "    if i%2==0:\n",
    "        print(i)\n",
    "else:\n",
    "    print('Their are no even number in current list')"
   ]
  },
  {
   "cell_type": "markdown",
   "metadata": {},
   "source": [
    "# Nested for loop"
   ]
  },
  {
   "cell_type": "code",
   "execution_count": 19,
   "metadata": {},
   "outputs": [
    {
     "name": "stdout",
     "output_type": "stream",
     "text": [
      "2 4 6 8 10 12 14 16 18 20 \n",
      "3 6 9 12 15 18 21 24 27 30 \n",
      "4 8 12 16 20 24 28 32 36 40 \n",
      "5 10 15 20 25 30 35 40 45 50 \n",
      "6 12 18 24 30 36 42 48 54 60 \n",
      "7 14 21 28 35 42 49 56 63 70 \n",
      "8 16 24 32 40 48 56 64 72 80 \n"
     ]
    }
   ],
   "source": [
    "# write a program for tables from 2 to 8\n",
    "\n",
    "for i in range(2,9):\n",
    "    for j in range(1,11):\n",
    "        print(i*j, end=' ')\n",
    "    print()\n"
   ]
  },
  {
   "cell_type": "markdown",
   "metadata": {},
   "source": [
    "# While statement\n",
    "It execute the statement till test expression is true."
   ]
  },
  {
   "cell_type": "code",
   "execution_count": 21,
   "metadata": {},
   "outputs": [
    {
     "name": "stdout",
     "output_type": "stream",
     "text": [
      "0\n",
      "1\n",
      "2\n",
      "3\n",
      "4\n",
      "Value of i after loop terminate:  5\n"
     ]
    }
   ],
   "source": [
    "i=0\n",
    "while i < 5:\n",
    "    print(i)\n",
    "    i+=1\n",
    "    \n",
    "print('Value of i after loop terminate: ',i)"
   ]
  },
  {
   "cell_type": "markdown",
   "metadata": {},
   "source": [
    "# When condition is tested and result is false then loop body get skipped and first statement aftet loop get executed"
   ]
  },
  {
   "cell_type": "markdown",
   "metadata": {},
   "source": [
    "# Infinite loop\n",
    "When condition never become false then loop becomes the infinite loop. \\\n",
    "We have to take care when using while loop, because there is possibility that the condition will never false and we end up in infinite loop. "
   ]
  },
  {
   "cell_type": "code",
   "execution_count": null,
   "metadata": {},
   "outputs": [],
   "source": [
    "# Example for inifite loop\n",
    "# while True:\n",
    "#     print('Infinite loop')"
   ]
  },
  {
   "cell_type": "code",
   "execution_count": 24,
   "metadata": {},
   "outputs": [
    {
     "name": "stdout",
     "output_type": "stream",
     "text": [
      "0 is less than 7\n",
      "1 is less than 7\n",
      "2 is less than 7\n",
      "3 is less than 7\n",
      "4 is less than 7\n",
      "5 is less than 7\n",
      "6 is less than 7\n",
      "7 is not less than 7\n"
     ]
    }
   ],
   "source": [
    "# Using else statement in while loop\n",
    "num=0\n",
    "while num<7:\n",
    "    print(f'{num} is less than 7')\n",
    "    num+=1 # This will increase num value and when num=7 then condition will false.\n",
    "else:\n",
    "    print(f'{num} is not less than 7')"
   ]
  },
  {
   "cell_type": "markdown",
   "metadata": {},
   "source": [
    "# Python Control Structures\n",
    "Following control statement in Python: \\\n",
    "1) Break statement \\\n",
    "2) Continue statement \\\n",
    "3) Pass statement"
   ]
  },
  {
   "cell_type": "markdown",
   "metadata": {},
   "source": [
    "# Break statement\n",
    "break statement is used to terminate the loop and it transfer execution to statement immediately after loop"
   ]
  },
  {
   "cell_type": "code",
   "execution_count": 25,
   "metadata": {},
   "outputs": [
    {
     "name": "stdout",
     "output_type": "stream",
     "text": [
      "P\n",
      "y\n"
     ]
    }
   ],
   "source": [
    "string = 'Python'\n",
    "for i in string:\n",
    "    if i == 't':\n",
    "        break # for loop will terminate if i is letter 't'\n",
    "    print(i)"
   ]
  },
  {
   "cell_type": "code",
   "execution_count": 26,
   "metadata": {},
   "outputs": [
    {
     "name": "stdout",
     "output_type": "stream",
     "text": [
      "10\n",
      "9\n",
      "8\n",
      "7\n",
      "6\n",
      "Loop terminated, out side of while loop\n"
     ]
    }
   ],
   "source": [
    "num = 10\n",
    "while num>0:\n",
    "    if num==5:\n",
    "        break\n",
    "    print(num)\n",
    "    num-=1\n",
    "\n",
    "print('Loop terminated, out side of while loop')"
   ]
  },
  {
   "cell_type": "markdown",
   "metadata": {},
   "source": [
    "# Continue statement\n",
    "Continue statement makes the loop to skip the rest of its body and immediately retest its condition"
   ]
  },
  {
   "cell_type": "code",
   "execution_count": 28,
   "metadata": {},
   "outputs": [
    {
     "name": "stdout",
     "output_type": "stream",
     "text": [
      "P\n",
      "y\n",
      "h\n",
      "o\n",
      "n\n"
     ]
    }
   ],
   "source": [
    "for i in string:\n",
    "    if i=='t':\n",
    "        continue\n",
    "    print(i)\n"
   ]
  },
  {
   "cell_type": "markdown",
   "metadata": {},
   "source": [
    "# Pass statement\n",
    "when you execute pass statement nothing will happen, pass statement is null operation"
   ]
  },
  {
   "cell_type": "code",
   "execution_count": 35,
   "metadata": {},
   "outputs": [
    {
     "name": "stdout",
     "output_type": "stream",
     "text": [
      "P\n",
      "y\n",
      "this is pass block\n",
      "t\n",
      "t\n",
      "h\n",
      "o\n",
      "n\n"
     ]
    }
   ],
   "source": [
    "for i in string:\n",
    "    if i=='t':\n",
    "        pass\n",
    "        print('this is pass block')\n",
    "        print(i)\n",
    "    print(i)"
   ]
  },
  {
   "cell_type": "markdown",
   "metadata": {},
   "source": [
    "# Example: Compound Expression and Conditional Construct"
   ]
  },
  {
   "cell_type": "code",
   "execution_count": 41,
   "metadata": {},
   "outputs": [
    {
     "name": "stdout",
     "output_type": "stream",
     "text": [
      "Enter Marks: 85\n",
      "You have passed with distinction\n"
     ]
    }
   ],
   "source": [
    "marks=int(input('Enter Marks: '))\n",
    "if marks>80:\n",
    "    print('You have passed with distinction')\n",
    "elif marks<80 and marks>=70:\n",
    "    if marks>=70 and marks<75:\n",
    "        print('You have passed with A+')\n",
    "    else:\n",
    "        print('You have passed with A++')\n",
    "elif marks<70 and marks>=60:\n",
    "    if marks>=60 and marks<65:\n",
    "        print('You have passed with B+')\n",
    "    else:\n",
    "        print('You have passed with B++')\n",
    "else:\n",
    "    if marks<60 and marks>=35:\n",
    "        print('You are passsed')\n",
    "    else:\n",
    "        print('You are failed')\n",
    "    "
   ]
  },
  {
   "cell_type": "code",
   "execution_count": null,
   "metadata": {},
   "outputs": [],
   "source": []
  }
 ],
 "metadata": {
  "kernelspec": {
   "display_name": "Python 3",
   "language": "python",
   "name": "python3"
  },
  "language_info": {
   "codemirror_mode": {
    "name": "ipython",
    "version": 3
   },
   "file_extension": ".py",
   "mimetype": "text/x-python",
   "name": "python",
   "nbconvert_exporter": "python",
   "pygments_lexer": "ipython3",
   "version": "3.7.6"
  }
 },
 "nbformat": 4,
 "nbformat_minor": 4
}
