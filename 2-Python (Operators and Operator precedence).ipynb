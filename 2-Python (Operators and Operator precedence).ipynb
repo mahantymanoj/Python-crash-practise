{
 "cells": [
  {
   "cell_type": "markdown",
   "metadata": {},
   "source": [
    "# Python Operators and Operands"
   ]
  },
  {
   "cell_type": "markdown",
   "metadata": {},
   "source": [
    "# Types of Operator in Python\n",
    "1) Arithmetic operators \\\n",
    "2) Comparison operators \\\n",
    "3) Assignment operators \\\n",
    "4) Logical operators \\\n",
    "5) Identity operators \\\n",
    "6) Membership operators \\\n",
    "7) Bitwise operators \\"
   ]
  },
  {
   "cell_type": "markdown",
   "metadata": {},
   "source": [
    "# Arithmetic Operator"
   ]
  },
  {
   "cell_type": "code",
   "execution_count": 2,
   "metadata": {},
   "outputs": [
    {
     "name": "stdout",
     "output_type": "stream",
     "text": [
      "A:  10   B:  3\n"
     ]
    }
   ],
   "source": [
    "a = 10\n",
    "b = 3\n",
    "print('A: ',a,'  B: ',b)"
   ]
  },
  {
   "cell_type": "code",
   "execution_count": 3,
   "metadata": {},
   "outputs": [
    {
     "name": "stdout",
     "output_type": "stream",
     "text": [
      "Sum of A and B:  13\n"
     ]
    }
   ],
   "source": [
    "# Sum (ADD)\n",
    "c=a+b\n",
    "print('Sum of A and B: ',c)"
   ]
  },
  {
   "cell_type": "code",
   "execution_count": 4,
   "metadata": {},
   "outputs": [
    {
     "name": "stdout",
     "output_type": "stream",
     "text": [
      "Difference between a and b:  7\n"
     ]
    }
   ],
   "source": [
    "# subtract\n",
    "c=a-b\n",
    "print('Difference between a and b: ',c)"
   ]
  },
  {
   "cell_type": "code",
   "execution_count": 5,
   "metadata": {},
   "outputs": [
    {
     "name": "stdout",
     "output_type": "stream",
     "text": [
      "Product of a and b:  30\n"
     ]
    }
   ],
   "source": [
    "# Multiplication\n",
    "c=a*b\n",
    "print('Product of a and b: ',c)"
   ]
  },
  {
   "cell_type": "code",
   "execution_count": 6,
   "metadata": {},
   "outputs": [
    {
     "name": "stdout",
     "output_type": "stream",
     "text": [
      "Division of a and b:  3.33\n"
     ]
    }
   ],
   "source": [
    "# Division\n",
    "c=a/b\n",
    "print('Division of a and b: ',\"{:.2f}\".format(round(c,5))) # limit upto 2 decimal points using round decimal upto 5"
   ]
  },
  {
   "cell_type": "code",
   "execution_count": 7,
   "metadata": {},
   "outputs": [
    {
     "name": "stdout",
     "output_type": "stream",
     "text": [
      "b Power of a, 10^3:  1000\n"
     ]
    }
   ],
   "source": [
    "# Exponantion Power\n",
    "c=a**b\n",
    "print(f'b Power of a, {a}^{b}: ',c)"
   ]
  },
  {
   "cell_type": "code",
   "execution_count": 8,
   "metadata": {},
   "outputs": [
    {
     "name": "stdout",
     "output_type": "stream",
     "text": [
      "Reminder a/b, 10/3:  1\n"
     ]
    }
   ],
   "source": [
    "# Mod\n",
    "c = a%b\n",
    "print(f'Reminder a/b, {a}/{b}: ',c)"
   ]
  },
  {
   "cell_type": "code",
   "execution_count": 9,
   "metadata": {},
   "outputs": [
    {
     "name": "stdout",
     "output_type": "stream",
     "text": [
      "Floor Divsion of a and b:  3\n"
     ]
    }
   ],
   "source": [
    "# Floor Division\n",
    "c=a//b\n",
    "print('Floor Divsion of a and b: ', c)"
   ]
  },
  {
   "cell_type": "markdown",
   "metadata": {},
   "source": [
    "# Python comparision operator"
   ]
  },
  {
   "cell_type": "code",
   "execution_count": 10,
   "metadata": {},
   "outputs": [
    {
     "data": {
      "text/plain": [
       "False"
      ]
     },
     "execution_count": 10,
     "metadata": {},
     "output_type": "execute_result"
    }
   ],
   "source": [
    "# Equal Equal to ==\n",
    "a==b"
   ]
  },
  {
   "cell_type": "code",
   "execution_count": 11,
   "metadata": {},
   "outputs": [
    {
     "data": {
      "text/plain": [
       "True"
      ]
     },
     "execution_count": 11,
     "metadata": {},
     "output_type": "execute_result"
    }
   ],
   "source": [
    "# Not Equal to !=\n",
    "a!=b"
   ]
  },
  {
   "cell_type": "code",
   "execution_count": 12,
   "metadata": {},
   "outputs": [
    {
     "data": {
      "text/plain": [
       "True"
      ]
     },
     "execution_count": 12,
     "metadata": {},
     "output_type": "execute_result"
    }
   ],
   "source": [
    "# Greater than >\n",
    "a>b"
   ]
  },
  {
   "cell_type": "code",
   "execution_count": 13,
   "metadata": {},
   "outputs": [
    {
     "data": {
      "text/plain": [
       "False"
      ]
     },
     "execution_count": 13,
     "metadata": {},
     "output_type": "execute_result"
    }
   ],
   "source": [
    "# Less than <\n",
    "a<b"
   ]
  },
  {
   "cell_type": "code",
   "execution_count": 14,
   "metadata": {},
   "outputs": [
    {
     "data": {
      "text/plain": [
       "True"
      ]
     },
     "execution_count": 14,
     "metadata": {},
     "output_type": "execute_result"
    }
   ],
   "source": [
    "# Greater than equal to\n",
    "a>=b"
   ]
  },
  {
   "cell_type": "code",
   "execution_count": 15,
   "metadata": {},
   "outputs": [
    {
     "data": {
      "text/plain": [
       "False"
      ]
     },
     "execution_count": 15,
     "metadata": {},
     "output_type": "execute_result"
    }
   ],
   "source": [
    "#  Less than equal to <=\n",
    "a<=b"
   ]
  },
  {
   "cell_type": "markdown",
   "metadata": {},
   "source": [
    "# Python Assignment operator"
   ]
  },
  {
   "cell_type": "code",
   "execution_count": 16,
   "metadata": {},
   "outputs": [
    {
     "name": "stdout",
     "output_type": "stream",
     "text": [
      "Python\n"
     ]
    }
   ],
   "source": [
    "# Equal to =\n",
    "string = 'Python' # Python is assigned to variable name string\n",
    "print(string)"
   ]
  },
  {
   "cell_type": "code",
   "execution_count": 17,
   "metadata": {},
   "outputs": [
    {
     "name": "stdout",
     "output_type": "stream",
     "text": [
      "15\n"
     ]
    }
   ],
   "source": [
    "# Add AND +=\n",
    "a+=5 # This will add 5 in a which has current value as 10\n",
    "print(a)"
   ]
  },
  {
   "cell_type": "code",
   "execution_count": 18,
   "metadata": {},
   "outputs": [
    {
     "name": "stdout",
     "output_type": "stream",
     "text": [
      "10\n"
     ]
    }
   ],
   "source": [
    "#  Subtract AND -=\n",
    "a-=5 # This will subtract 5 in a which has current value as 15\n",
    "print(a)"
   ]
  },
  {
   "cell_type": "code",
   "execution_count": 19,
   "metadata": {},
   "outputs": [
    {
     "name": "stdout",
     "output_type": "stream",
     "text": [
      "15\n"
     ]
    }
   ],
   "source": [
    "# Multiply AND *=\n",
    "b*=5 # This will multiple b with 5, b as current value as 3\n",
    "print(b)"
   ]
  },
  {
   "cell_type": "code",
   "execution_count": 20,
   "metadata": {},
   "outputs": [
    {
     "name": "stdout",
     "output_type": "stream",
     "text": [
      "3.0\n"
     ]
    }
   ],
   "source": [
    "# Division AND /=\n",
    "b/=5 # This will divide b with 5, which has current value as 15\n",
    "print(b)"
   ]
  },
  {
   "cell_type": "code",
   "execution_count": 21,
   "metadata": {},
   "outputs": [
    {
     "name": "stdout",
     "output_type": "stream",
     "text": [
      "1.0\n"
     ]
    }
   ],
   "source": [
    "# Modulus AND %=\n",
    "a%=b\n",
    "print(a)"
   ]
  },
  {
   "cell_type": "code",
   "execution_count": 22,
   "metadata": {},
   "outputs": [
    {
     "name": "stdout",
     "output_type": "stream",
     "text": [
      "27.0\n"
     ]
    }
   ],
   "source": [
    "# Exponent AND\n",
    "b**=b\n",
    "print(b)"
   ]
  },
  {
   "cell_type": "code",
   "execution_count": 23,
   "metadata": {},
   "outputs": [
    {
     "name": "stdout",
     "output_type": "stream",
     "text": [
      "27.0\n"
     ]
    }
   ],
   "source": [
    "# Floor Division\n",
    "b//=a\n",
    "print(b)"
   ]
  },
  {
   "cell_type": "markdown",
   "metadata": {},
   "source": [
    "# Python Logical Operator"
   ]
  },
  {
   "cell_type": "code",
   "execution_count": 24,
   "metadata": {},
   "outputs": [],
   "source": [
    "a = True\n",
    "b = False\n",
    "c = True"
   ]
  },
  {
   "cell_type": "code",
   "execution_count": 29,
   "metadata": {},
   "outputs": [
    {
     "name": "stdout",
     "output_type": "stream",
     "text": [
      "a and b:  False\n",
      "a and c:  True\n",
      "a and b and c:  False\n"
     ]
    }
   ],
   "source": [
    "# and Operator\n",
    "print('a and b: ', a and b)\n",
    "print('a and c: ', a and c)\n",
    "print('a and b and c: ', a and b and c)"
   ]
  },
  {
   "cell_type": "code",
   "execution_count": 31,
   "metadata": {},
   "outputs": [
    {
     "name": "stdout",
     "output_type": "stream",
     "text": [
      "a or b:  True\n",
      "b or b:  False\n",
      "a or b or c:  True\n"
     ]
    }
   ],
   "source": [
    "# or Operator\n",
    "print('a or b: ', a or b)\n",
    "print('b or b: ', b or b)\n",
    "print('a or b or c: ', a or b or c)"
   ]
  },
  {
   "cell_type": "code",
   "execution_count": 37,
   "metadata": {},
   "outputs": [
    {
     "name": "stdout",
     "output_type": "stream",
     "text": [
      "a is not True:  False\n"
     ]
    }
   ],
   "source": [
    "# not operator\n",
    "print('a is not True: ', not a)"
   ]
  },
  {
   "cell_type": "markdown",
   "metadata": {},
   "source": [
    "# Python identity Operator"
   ]
  },
  {
   "cell_type": "code",
   "execution_count": 39,
   "metadata": {},
   "outputs": [
    {
     "name": "stdout",
     "output_type": "stream",
     "text": [
      "a is True:  True\n",
      "a is False:  False\n"
     ]
    }
   ],
   "source": [
    "# is operator\n",
    "print('a is True: ', a is True)\n",
    "print('a is False: ', a is False)"
   ]
  },
  {
   "cell_type": "code",
   "execution_count": 41,
   "metadata": {},
   "outputs": [
    {
     "name": "stdout",
     "output_type": "stream",
     "text": [
      "a is not True:  False\n",
      "a is not False:  True\n"
     ]
    }
   ],
   "source": [
    "# is not operator\n",
    "print('a is not True: ', a is not True)\n",
    "print('a is not False: ', a is not False)"
   ]
  },
  {
   "cell_type": "markdown",
   "metadata": {},
   "source": [
    "# Python Membership Operator"
   ]
  },
  {
   "cell_type": "code",
   "execution_count": 43,
   "metadata": {},
   "outputs": [
    {
     "data": {
      "text/plain": [
       "list"
      ]
     },
     "execution_count": 43,
     "metadata": {},
     "output_type": "execute_result"
    }
   ],
   "source": [
    "a = list() # defining empty list\n",
    "a = [4,10,'Python',2.3,'Programming']\n",
    "type(a) # data type"
   ]
  },
  {
   "cell_type": "code",
   "execution_count": 46,
   "metadata": {},
   "outputs": [
    {
     "name": "stdout",
     "output_type": "stream",
     "text": [
      "Python in a:  True\n",
      "4 in a:  True\n"
     ]
    }
   ],
   "source": [
    "# in operator\n",
    "print('Python in a: ', 'Python' in a)\n",
    "print('4 in a: ', 4 in a)"
   ]
  },
  {
   "cell_type": "code",
   "execution_count": 47,
   "metadata": {},
   "outputs": [
    {
     "name": "stdout",
     "output_type": "stream",
     "text": [
      "Python not in a:  False\n",
      "4 not in a:  False\n"
     ]
    }
   ],
   "source": [
    "# not in operator\n",
    "print('Python not in a: ', 'Python' not in a)\n",
    "print('4 not in a: ', 4 not in a)"
   ]
  },
  {
   "cell_type": "markdown",
   "metadata": {},
   "source": [
    "# Bitwise Operator"
   ]
  },
  {
   "cell_type": "code",
   "execution_count": 53,
   "metadata": {},
   "outputs": [
    {
     "name": "stdout",
     "output_type": "stream",
     "text": [
      "Binary a =62 :0b111110,  Binary b =13 :0b1101\n"
     ]
    }
   ],
   "source": [
    "a = 62\n",
    "b = 13\n",
    "print(f'Binary a ={a} :{bin(a)},  Binary b ={b} :{bin(b)}')"
   ]
  },
  {
   "cell_type": "code",
   "execution_count": 57,
   "metadata": {},
   "outputs": [
    {
     "name": "stdout",
     "output_type": "stream",
     "text": [
      "12\n"
     ]
    }
   ],
   "source": [
    "# 1) & - Binary And operator used to copy a bit to result if it exists in both operads\n",
    "c = a & b  # a = 0011 1110\n",
    "print(c)   # b = 0000 1101\n",
    "# when both operads has 1 consider 1 and then plus both number place."
   ]
  },
  {
   "cell_type": "code",
   "execution_count": 61,
   "metadata": {},
   "outputs": [
    {
     "name": "stdout",
     "output_type": "stream",
     "text": [
      "63\n"
     ]
    }
   ],
   "source": [
    "# 2) | - Binary Or operator used to copy a bit to result if it exists in either of operads\n",
    "c = a | b # a = 0011 1110\n",
    "print(c)  # b = 0000 1101\n",
    "# when either of has 1 consider 1 and then plus both number place."
   ]
  },
  {
   "cell_type": "code",
   "execution_count": 62,
   "metadata": {},
   "outputs": [
    {
     "name": "stdout",
     "output_type": "stream",
     "text": [
      "51\n"
     ]
    }
   ],
   "source": [
    "# 3) ^ - Binary XOR operator, it copies the bit if it set in one operand but not both\n",
    "c = a^b   # a = 0011 1110\n",
    "print(c)  # b = 0000 1101\n",
    "# when first operand has 1 and in same number place second operand has 0 then consider 1 and then plus both number place."
   ]
  },
  {
   "cell_type": "code",
   "execution_count": 65,
   "metadata": {},
   "outputs": [
    {
     "name": "stdout",
     "output_type": "stream",
     "text": [
      "-63\n",
      "-14\n"
     ]
    }
   ],
   "source": [
    "# 4) ~ - Binary Ones Complement Operator (Unary Operator) it has effect of flipping bits\n",
    "c = ~a  # a = 0011 1110\n",
    "print(c)\n",
    "print(~b)\n",
    "#  it will flip hast digit 0 to 1 and then plus the binary number"
   ]
  },
  {
   "cell_type": "code",
   "execution_count": 72,
   "metadata": {},
   "outputs": [
    {
     "name": "stdout",
     "output_type": "stream",
     "text": [
      "248\n"
     ]
    },
    {
     "data": {
      "text/plain": [
       "'0b11111000'"
      ]
     },
     "execution_count": 72,
     "metadata": {},
     "output_type": "execute_result"
    }
   ],
   "source": [
    "# 5) << - Binary Left shift operator. It shift the left operands value to left by the number of bits given by the right operand\n",
    "c = a<<2  # a = 0011 1110\n",
    "print(c)  # c = 1111 1000\n",
    "bin(c)"
   ]
  },
  {
   "cell_type": "code",
   "execution_count": 73,
   "metadata": {},
   "outputs": [
    {
     "name": "stdout",
     "output_type": "stream",
     "text": [
      "15\n"
     ]
    },
    {
     "data": {
      "text/plain": [
       "'0b1111'"
      ]
     },
     "execution_count": 73,
     "metadata": {},
     "output_type": "execute_result"
    }
   ],
   "source": [
    "# 6) >> - Binary Right shift operator. It shift the left operands value to right by the number of bits given by the right operand\n",
    "c = a>>2\n",
    "print(c)\n",
    "bin(c)"
   ]
  },
  {
   "cell_type": "markdown",
   "metadata": {},
   "source": [
    "# Python Operator Precedence"
   ]
  },
  {
   "cell_type": "markdown",
   "metadata": {},
   "source": [
    "# Operators are mentioned in High to low precendence order\n",
    "\n",
    "1) () - Parentheses \\\n",
    "2) ** - Exponent \\\n",
    "3) +x, -x, ~x - Unary Plus, Unary minus, Bitwise Not \\\n",
    "4) *, /, //, % - Multiplication, Division, floor division, Modulus \\\n",
    "5) +, - : Plus, minus \\"
   ]
  },
  {
   "cell_type": "markdown",
   "metadata": {},
   "source": [
    "# Example Expresion"
   ]
  },
  {
   "cell_type": "code",
   "execution_count": 1,
   "metadata": {},
   "outputs": [
    {
     "data": {
      "text/plain": [
       "3.0"
      ]
     },
     "execution_count": 1,
     "metadata": {},
     "output_type": "execute_result"
    }
   ],
   "source": [
    "10/2-2"
   ]
  },
  {
   "cell_type": "code",
   "execution_count": 3,
   "metadata": {},
   "outputs": [
    {
     "data": {
      "text/plain": [
       "8"
      ]
     },
     "execution_count": 3,
     "metadata": {},
     "output_type": "execute_result"
    }
   ],
   "source": [
    "2+3*2"
   ]
  },
  {
   "cell_type": "markdown",
   "metadata": {},
   "source": [
    "# Operator and Operands\n",
    "Operators are special symbol that represent calculation like addition, subtraction. The values operator uses are called operands"
   ]
  },
  {
   "cell_type": "markdown",
   "metadata": {},
   "source": [
    "Statement: Is nothing but an instruction that Python interpreter can execute"
   ]
  },
  {
   "cell_type": "code",
   "execution_count": null,
   "metadata": {},
   "outputs": [],
   "source": []
  }
 ],
 "metadata": {
  "kernelspec": {
   "display_name": "Python 3",
   "language": "python",
   "name": "python3"
  },
  "language_info": {
   "codemirror_mode": {
    "name": "ipython",
    "version": 3
   },
   "file_extension": ".py",
   "mimetype": "text/x-python",
   "name": "python",
   "nbconvert_exporter": "python",
   "pygments_lexer": "ipython3",
   "version": "3.7.6"
  }
 },
 "nbformat": 4,
 "nbformat_minor": 4
}
